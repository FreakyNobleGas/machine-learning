{
 "cells": [
  {
   "cell_type": "code",
   "execution_count": null,
   "metadata": {},
   "outputs": [],
   "source": [
    "'''\n",
    "Author: Nick Quinn\n",
    "Description: Following Alexis Cook's tutorial on the Kaggle \"Titantic - Machine Learning from Disaster\" Competition\n",
    "Links:\n",
    "    - Alexis Cook's tutorial - https://github.com/FreakyNobleGas/machine-learning\n",
    "    - Kaggle Titantic Competition - https://www.kaggle.com/c/titanic\n",
    "'''"
   ]
  },
  {
   "cell_type": "code",
   "execution_count": 1,
   "metadata": {},
   "outputs": [
    {
     "ename": "SyntaxError",
     "evalue": "invalid syntax (Temp/ipykernel_20604/869731167.py, line 4)",
     "output_type": "error",
     "traceback": [
      "\u001b[1;36m  File \u001b[1;32m\"C:\\Users\\nickq\\AppData\\Local\\Temp/ipykernel_20604/869731167.py\"\u001b[1;36m, line \u001b[1;32m4\u001b[0m\n\u001b[1;33m    kaggle competitions download -c titanic\u001b[0m\n\u001b[1;37m                      ^\u001b[0m\n\u001b[1;31mSyntaxError\u001b[0m\u001b[1;31m:\u001b[0m invalid syntax\n"
     ]
    }
   ],
   "source": [
    "# Setting up environment\n",
    "\n",
    "# Download Dataset\n",
    "kaggle competitions download -c titanic"
   ]
  }
 ],
 "metadata": {
  "interpreter": {
   "hash": "9f6f0351d3484aa8a08ad62d7f411e97bd0734c1da0522cc45a5235e38836f5a"
  },
  "kernelspec": {
   "display_name": "Python 3.7.0 64-bit",
   "name": "python3"
  },
  "language_info": {
   "codemirror_mode": {
    "name": "ipython",
    "version": 3
   },
   "file_extension": ".py",
   "mimetype": "text/x-python",
   "name": "python",
   "nbconvert_exporter": "python",
   "pygments_lexer": "ipython3",
   "version": "3.7.0"
  },
  "orig_nbformat": 4
 },
 "nbformat": 4,
 "nbformat_minor": 2
}
